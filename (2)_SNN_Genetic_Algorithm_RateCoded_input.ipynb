{
  "nbformat": 4,
  "nbformat_minor": 0,
  "metadata": {
    "colab": {
      "name": "(2) SNN_Genetic Algorithm_RateCoded input.ipynb",
      "provenance": [],
      "authorship_tag": "ABX9TyMvu/NwhYlJzhftQWQGULln",
      "include_colab_link": true
    },
    "kernelspec": {
      "name": "python3",
      "display_name": "Python 3"
    }
  },
  "cells": [
    {
      "cell_type": "markdown",
      "metadata": {
        "id": "view-in-github",
        "colab_type": "text"
      },
      "source": [
        "<a href=\"https://colab.research.google.com/github/dipayandas97/Indoor-Navigation-System/blob/master/(2)_SNN_Genetic_Algorithm_RateCoded_input.ipynb\" target=\"_parent\"><img src=\"https://colab.research.google.com/assets/colab-badge.svg\" alt=\"Open In Colab\"/></a>"
      ]
    },
    {
      "cell_type": "code",
      "metadata": {
        "id": "sB-dcYMm8MOu",
        "colab_type": "code",
        "outputId": "2e531de3-2d1e-4f7c-d036-4416ed306235",
        "colab": {
          "base_uri": "https://localhost:8080/",
          "height": 159
        }
      },
      "source": [
        "import numpy as np\n",
        "import pandas as pd\n",
        "import matplotlib.pyplot as plt\n",
        "import os\n",
        "from google.colab import drive\n",
        "import seaborn as sns\n",
        "import pickle\n",
        "from sklearn.model_selection import train_test_split\n",
        "\n",
        "drive.mount('/content/drive/')\n",
        "import sys\n",
        "sys.path.append('/content/drive/My Drive/Final_year_project/NLOS_data/SNN_GA/')\n",
        "\n",
        "from SNN_localization_preprocessing import transform_data\n",
        "from neuron_models import LIF\n",
        "from GA import GA"
      ],
      "execution_count": 1,
      "outputs": [
        {
          "output_type": "stream",
          "text": [
            "/usr/local/lib/python3.6/dist-packages/statsmodels/tools/_testing.py:19: FutureWarning: pandas.util.testing is deprecated. Use the functions in the public API at pandas.testing instead.\n",
            "  import pandas.util.testing as tm\n"
          ],
          "name": "stderr"
        },
        {
          "output_type": "stream",
          "text": [
            "Go to this URL in a browser: https://accounts.google.com/o/oauth2/auth?client_id=947318989803-6bn6qk8qdgf4n4g3pfee6491hc0brc4i.apps.googleusercontent.com&redirect_uri=urn%3aietf%3awg%3aoauth%3a2.0%3aoob&response_type=code&scope=email%20https%3a%2f%2fwww.googleapis.com%2fauth%2fdocs.test%20https%3a%2f%2fwww.googleapis.com%2fauth%2fdrive%20https%3a%2f%2fwww.googleapis.com%2fauth%2fdrive.photos.readonly%20https%3a%2f%2fwww.googleapis.com%2fauth%2fpeopleapi.readonly\n",
            "\n",
            "Enter your authorization code:\n",
            "··········\n",
            "Mounted at /content/drive/\n"
          ],
          "name": "stdout"
        }
      ]
    },
    {
      "cell_type": "markdown",
      "metadata": {
        "id": "Ql5GSas3DYMZ",
        "colab_type": "text"
      },
      "source": [
        "#Data preparation"
      ]
    },
    {
      "cell_type": "code",
      "metadata": {
        "id": "Fu9DNdwMYPFu",
        "colab_type": "code",
        "colab": {}
      },
      "source": [
        "class rate_encode:\n",
        "    def __init__(self, time_window, input_range, output_range):\n",
        "        self.time_window = time_window\n",
        "        self.min_input = input_range[0]\n",
        "        self.max_input = input_range[1]\n",
        "        self.min_output = output_range[0]\n",
        "        self.max_output = output_range[1]\n",
        "\n",
        "    def encode(self, vector): #1D vector\n",
        "        spike_train = []\n",
        "        for v in vector:\n",
        "            freq = (((v-self.min_input)/(self.max_input-self.min_input)) * (self.max_output-self.min_output)) + self.min_output \n",
        "            t = (1 / freq) * 1000 #ms                    \n",
        "            spikes = np.zeros(self.time_window)\n",
        "            k=0\n",
        "            while k<self.time_window:\n",
        "                spikes[k] = 1\n",
        "                k += int(t)\n",
        "            spike_train.append(spikes)\n",
        "        spike_train = np.asarray(spike_train)\n",
        "        return spike_train   "
      ],
      "execution_count": 0,
      "outputs": []
    },
    {
      "cell_type": "code",
      "metadata": {
        "id": "dcGe6IzJcQ_6",
        "colab_type": "code",
        "colab": {}
      },
      "source": [
        "#functions to transform scaler data to spike time points and vice versa\n",
        "#[a,b] : Min,Max value of temporal encoding\n",
        "#[M:m] : Max,Min value that variable f can take\n",
        "\n",
        "def scaler_to_temporal_value(f):\n",
        "    #return (((b-a)/(M-m))*f) + (((a*M)-(b*m))/(M-m))\n",
        "    return 33+(3*f) #since input range[0,22] so output range will be [0,66]. additional 33 settling time can be allotted in the beginning\n",
        "    \n",
        "def temporal_to_scaler_value(y):\n",
        "    #return (y - (((a*M)-(b*m))/(M-m))) / ((b-a)/(M-m))\n",
        "    return (y-33)/3"
      ],
      "execution_count": 0,
      "outputs": []
    },
    {
      "cell_type": "code",
      "metadata": {
        "id": "4Wj1w2G1A-Aa",
        "colab_type": "code",
        "outputId": "fa921584-f5f9-4f6a-e138-c9e412cff623",
        "colab": {
          "base_uri": "https://localhost:8080/",
          "height": 52
        }
      },
      "source": [
        "#Data--------------------------------------------------------------------------------------------------------------------------------------------------\n",
        "#signal #Input signal : shape(batchsize, features, timesteps)\n",
        "f = open('/content/drive/My Drive/Final_year_project/NLOS_data/SNN_GA/total_data.pkl', 'rb')\n",
        "X, Y = pickle.load(f)\n",
        "f.close()\n",
        "\n",
        "#Rate Encode X\n",
        "encoder = rate_encode(100, (-110,-22), (10, 200))\n",
        "signal_X = []\n",
        "for x in X:\n",
        "    signal_X.append(encoder.encode(x))\n",
        "signal_X = np.asarray(signal_X)\n",
        "\n",
        "#Time Encode Y\n",
        "signal_Y = []\n",
        "min_y, max_y = np.min(Y), np.max(Y)\n",
        "for y in Y:\n",
        "    t = scaler_to_temporal_value(f=y)\n",
        "    spikes_y = np.zeros((2,100))\n",
        "    spikes_y[0][t[0]], spikes_y[1][t[1]] = 1,1\n",
        "    signal_Y.append(spikes_y)\n",
        "signal_Y = np.asarray(signal_Y)\n",
        "\n",
        "X_train, X_test, y_train, y_test = train_test_split(signal_X, signal_Y, test_size=0.2, shuffle=True)\n",
        "print('Train sizes: ',X_train.shape, y_train.shape)\n",
        "print('Test sizes: ',X_test.shape, y_test.shape)\n",
        "\n"
      ],
      "execution_count": 68,
      "outputs": [
        {
          "output_type": "stream",
          "text": [
            "Train sizes:  (4080, 4, 100) (4080, 2, 100)\n",
            "Test sizes:  (1020, 4, 100) (1020, 2, 100)\n"
          ],
          "name": "stdout"
        }
      ]
    },
    {
      "cell_type": "markdown",
      "metadata": {
        "id": "evlxrLwiCyH7",
        "colab_type": "text"
      },
      "source": [
        "#Fitness Calculation"
      ]
    },
    {
      "cell_type": "markdown",
      "metadata": {
        "id": "SeOkk7OapP9y",
        "colab_type": "text"
      },
      "source": [
        "##error()"
      ]
    },
    {
      "cell_type": "code",
      "metadata": {
        "id": "GRSMkatjBK_L",
        "colab_type": "code",
        "colab": {}
      },
      "source": [
        "#Spike distance----------------------------------------------------------------------------------------------------------------------------------------\n",
        "\n",
        "def error(y_true, y_pred):\n",
        "    if y_true.shape != y_pred.shape:\n",
        "        raise Exception('Shape of y_true and y_pred is not equal')\n",
        "    \n",
        "    true_timestamps, pred_timestamps = np.zeros((y_true.shape[0],))-1, np.zeros((y_pred.shape[0],))-1\n",
        "    \n",
        "    for d in range(y_true.shape[0]):\n",
        "    \n",
        "        for t in range(y_true.shape[1]):\n",
        "            if y_true[d][t] == 1:           # |delta(n)| = 1\n",
        "                true_timestamps[d] = t\n",
        "                break\n",
        "        for t in range(y_pred.shape[1]):\n",
        "            if y_pred[d][t] == 5:           # |V_spike| = 5\n",
        "                pred_timestamps[d] = t\n",
        "                break                        \n",
        "        #if no spikes have been predicted\n",
        "        if pred_timestamps[d] == -1:\n",
        "            pred_timestamps[d] = y_true.shape[1] - true_timestamps[d]\n",
        "\n",
        "    pred_timestamps[pred_timestamps==-1] = 0\n",
        "    true_timestamps[true_timestamps==-1] = 0\n",
        "    e = [(true_timestamps[i]-pred_timestamps[i])**2 for i in range(y_true.shape[0])]\n",
        "    e = np.sqrt(np.sum(e))\n",
        "    return e"
      ],
      "execution_count": 0,
      "outputs": []
    },
    {
      "cell_type": "markdown",
      "metadata": {
        "id": "15UV3WN8pUtc",
        "colab_type": "text"
      },
      "source": [
        "##mp_fitness()"
      ]
    },
    {
      "cell_type": "code",
      "metadata": {
        "id": "pKzCiFqOhf4t",
        "colab_type": "code",
        "colab": {}
      },
      "source": [
        "#Multi-proecssing\n",
        "\n",
        "def mp_fitness(synapse_vector, output): #fitness of one vectored synapse\n",
        "    \n",
        "    #Network instance for this sub-process-----------------------------------------------------------------------------------------------------------------------------------------------\n",
        "    dt = 0.125 #ms\n",
        "    m, n = 4, 2 \n",
        "    h_layer = []\n",
        "    for i in range(n):\n",
        "        neuron = LIF(threshold=0.1, dt=dt, Cm=2)\n",
        "        h_layer.append(neuron)    \n",
        "    #--------------------------------------------------------------------------------------------------------------------------------------------\n",
        "    \n",
        "    synapse_id = synapse_vector[-1] \n",
        "    synapse_vector = synapse_vector[:-1]\n",
        "    synapse_vector = synapse_vector.reshape(1, synapse_vector.shape[0])\n",
        "    synapse = ga.vector_to_matrix(vectors = synapse_vector, matrices_dim=synapse_dim)[0][0]\n",
        "\n",
        "    #Error on train_data\n",
        "    temp_train_score = []      \n",
        "    for i in range(X_train.shape[0]):     \n",
        "        signal = X_train[i] #Input\n",
        "        activations=[]      #Output\n",
        "    \n",
        "        for l in range(n):\n",
        "            activations.append([])\n",
        "            h_layer[l].initialize()\n",
        "        \n",
        "        simulation_time = 100\n",
        "        for t in range(simulation_time):            \n",
        "            for idx,neuron in enumerate(h_layer):\n",
        "                input_I = np.dot(synapse[idx], signal[:,t])\n",
        "                activations[idx].append(neuron.update(input_I, t))\n",
        "        activations = np.asarray(activations)\n",
        "        \n",
        "        temp_train_score.append( error(y_train[i],activations) )\n",
        "\n",
        "    #Error on test data\n",
        "    temp_test_score = []        \n",
        "    for i in range(X_test.shape[0]):     \n",
        "        signal = X_test[i] #Input\n",
        "        activations=[]     #Output\n",
        "    \n",
        "        for l in range(n):\n",
        "            activations.append([])\n",
        "            h_layer[l].initialize()\n",
        "\n",
        "        for t in range(simulation_time):            \n",
        "            for idx,neuron in enumerate(h_layer):\n",
        "                input_I = np.dot(synapse[idx], signal[:,t])\n",
        "                activations[idx].append(neuron.update(input_I, t))\n",
        "        activations = np.asarray(activations)\n",
        "        \n",
        "        temp_test_score.append( error(y_test[i],activations) )\n",
        "\n",
        "    output.put([synapse_id, np.mean(temp_train_score), np.mean(temp_test_score)])"
      ],
      "execution_count": 0,
      "outputs": []
    },
    {
      "cell_type": "markdown",
      "metadata": {
        "id": "rCwgwmywDyH2",
        "colab_type": "text"
      },
      "source": [
        "#Main : Optimization"
      ]
    },
    {
      "cell_type": "markdown",
      "metadata": {
        "id": "IwckTBDegalh",
        "colab_type": "text"
      },
      "source": [
        "##Using multi-processing"
      ]
    },
    {
      "cell_type": "code",
      "metadata": {
        "id": "De86byQWsVxI",
        "colab_type": "code",
        "colab": {}
      },
      "source": [
        "import time\n",
        "def dum(a, t, output):\n",
        "    time.sleep(t)\n",
        "    print(t)\n",
        "    output.put(a)"
      ],
      "execution_count": 0,
      "outputs": []
    },
    {
      "cell_type": "code",
      "metadata": {
        "id": "IOcsqR7_sb7l",
        "colab_type": "code",
        "outputId": "5283e578-8483-4a63-ad7a-6f9a76493623",
        "colab": {
          "base_uri": "https://localhost:8080/",
          "height": 208
        }
      },
      "source": [
        "import multiprocessing as mp\n",
        "output = mp.Queue()\n",
        "\n",
        "pop = np.arange(10)\n",
        "t = np.concatenate([np.arange(10,5,-1), np.arange(6,10,1)])\n",
        "\n",
        "processes=[]\n",
        "for ix,syn in enumerate(pop):\n",
        "    p = mp.Process(target = dum, args=(syn, t[ix-1], output))\n",
        "    processes.append(p)\n",
        "\n",
        "for p in processes:\n",
        "    p.start()\n",
        "\n",
        "for p in processes:\n",
        "    p.join()\n",
        "\n",
        "results = [output.get() for p in processes]\n",
        "\n",
        "print(results)"
      ],
      "execution_count": 0,
      "outputs": [
        {
          "output_type": "stream",
          "text": [
            "6\n",
            "6\n",
            "7\n",
            "7\n",
            "8\n",
            "8\n",
            "9\n",
            "9\n",
            "9\n",
            "10\n",
            "[5, 6, 4, 7, 3, 8, 0, 2, 9, 1]\n"
          ],
          "name": "stdout"
        }
      ]
    },
    {
      "cell_type": "code",
      "metadata": {
        "id": "gLOwVDTasxcs",
        "colab_type": "code",
        "outputId": "28ee81e0-dde7-4f29-94d9-acf85109ce81",
        "colab": {
          "base_uri": "https://localhost:8080/",
          "height": 34
        }
      },
      "source": [
        "t"
      ],
      "execution_count": 0,
      "outputs": [
        {
          "output_type": "execute_result",
          "data": {
            "text/plain": [
              "array([9, 8, 7, 6, 6, 7, 8, 9])"
            ]
          },
          "metadata": {
            "tags": []
          },
          "execution_count": 67
        }
      ]
    },
    {
      "cell_type": "code",
      "metadata": {
        "id": "nkKFSANvg0fv",
        "colab_type": "code",
        "outputId": "e2243579-957a-42bb-9370-a1e9ed901777",
        "colab": {
          "base_uri": "https://localhost:8080/",
          "height": 173
        }
      },
      "source": [
        "import multiprocessing as mp\n",
        "output = mp.Queue()\n",
        "\n",
        "pop = np.random.uniform(-1.,2.,size=(2, 1, n, m))\n",
        "\n",
        "processes=[]\n",
        "for syn in pop:\n",
        "    p = mp.Process(target = mp_fitness, args=(syn, output))\n",
        "    processes.append(p)\n",
        "\n",
        "for p in processes:\n",
        "    p.start()\n",
        "\n",
        "for p in processes:\n",
        "    p.join()\n",
        "\n",
        "results = [output.get() for p in processes]\n",
        "\n",
        "print(results)"
      ],
      "execution_count": 0,
      "outputs": [
        {
          "output_type": "stream",
          "text": [
            "Training chromosome:  [[[ 0.44329736  1.04577818  1.11899767  0.64994026]\n",
            "  [ 1.13565153 -0.60587481  0.7830648  -0.00432822]]]\n",
            "Training chromosome:  [[[ 0.80797252  1.52172621  0.36678232  1.6529984 ]\n",
            "  [ 0.86253905 -0.43839262  1.89781122  1.92233191]]]\n",
            "Testing chromosome:  [[[ 0.80797252  1.52172621  0.36678232  1.6529984 ]\n",
            "  [ 0.86253905 -0.43839262  1.89781122  1.92233191]]]\n",
            "Testing chromosome:  [[[ 0.44329736  1.04577818  1.11899767  0.64994026]\n",
            "  [ 1.13565153 -0.60587481  0.7830648  -0.00432822]]]\n",
            "[[307.4229740256599, 306.98612810550134], [161.95301944194773, 162.64077106885355]]\n"
          ],
          "name": "stdout"
        }
      ]
    },
    {
      "cell_type": "markdown",
      "metadata": {
        "id": "PsnCwdlYpb_6",
        "colab_type": "text"
      },
      "source": [
        "##sequential GA"
      ]
    },
    {
      "cell_type": "code",
      "metadata": {
        "id": "akkdHhB0gZiM",
        "colab_type": "code",
        "colab": {}
      },
      "source": [
        "#Genetic algorithm parameters:------------------------------------------------------------------------------------------------------------------------\n",
        "#    Mating Pool Size (Number of Parents)\n",
        "#    Population Size\n",
        "#    Number of Generations\n",
        "#    Mutation Percent\n",
        "\n",
        "sol_per_pop = 200\n",
        "num_parents_mating = 50\n",
        "num_generations = 500\n",
        "mutation_percent = 30\n",
        "ga = GA()\n",
        "\n",
        "#initial population :         \n",
        "initial_population_weights = np.random.uniform(-1.,2.,size=(sol_per_pop, 1, n, m))\n",
        "population_matrices = initial_population_weights\n",
        "population_vectors = ga.matrix_to_vector(initial_population_weights)\n",
        "\n",
        "train_error, test_error = [], []\n",
        "\n",
        "for generation in range(num_generations):\n",
        "    print('============================================================================')\n",
        "    print(\"Generation : \", generation+1,'/',num_generations)\n",
        "    print('============================================================================')    \n",
        "    \n",
        "    #Calculate fitness for each population_vector in population    \n",
        "    fitness_train, fitness_test = fitness(population_vectors)\n",
        "    \n",
        "    train_error.append(np.min(fitness_train))\n",
        "    test_error.append(np.min(fitness_test))\n",
        "    print('Train Error:', train_error[-1])\n",
        "    print('Test Error:', test_error[-1])\n",
        "    \n",
        "    #Select best parents \n",
        "    parents = ga.select_mating_pool(population=population_vectors, fitness=fitness_train.copy(), mode='min', num_parents=num_parents_mating)\n",
        "    print(parents.shape[0],'New parents generated...')\n",
        "    \n",
        "    #Crossover parents\n",
        "    offsprings = ga.crossover(parents=parents, num_offsprings=sol_per_pop-num_parents_mating)\n",
        "    print(offsprings.shape[0],'New offsprings produced...')\n",
        "    \n",
        "    #Mutate offsprings\n",
        "    mutated_offsprings = ga.mutate(offsprings, mutation_percent=mutation_percent)\n",
        "    print(mutated_offsprings.shape[0],'offsprings mutated')\n",
        "    \n",
        "    #Create new population\n",
        "    population_vectors[:parents.shape[0],:] = parents\n",
        "    population_vectors[parents.shape[0]:,:] = mutated_offsprings\n",
        "    print('New population created')\n",
        "    \n",
        "    #Update the result of this generation in report files\n",
        "    f = open('train_error.pkl','wb')\n",
        "    pickle.dump(train_error, f)\n",
        "    f.close()\n",
        "    f = open('test_error.pkl','wb')\n",
        "    pickle.dump(test_error, f)\n",
        "    f.close()\n",
        "    f = open('best_paramater_found.pkl','wb')\n",
        "    pickle.dump(parents[0], f)\n",
        "    f.close()\n",
        "\n",
        "    plt.plot(train_error)\n",
        "    plt.plot(test_error)\n",
        "    plt.show()"
      ],
      "execution_count": 0,
      "outputs": []
    },
    {
      "cell_type": "markdown",
      "metadata": {
        "id": "igoqo1FopiG3",
        "colab_type": "text"
      },
      "source": [
        "##Parallel GA"
      ]
    },
    {
      "cell_type": "code",
      "metadata": {
        "id": "vmEsoOKupkPp",
        "colab_type": "code",
        "outputId": "bc117700-7dbc-4f82-923a-bf85d0d2a9a5",
        "colab": {
          "base_uri": "https://localhost:8080/",
          "height": 1000
        }
      },
      "source": [
        "import multiprocessing as mp\n",
        "output = mp.Queue()\n",
        "\n",
        "#Genetic algorithm parameters:------------------------------------------------------------------------------------------------------------------------\n",
        "#    Mating Pool Size (Number of Parents)\n",
        "#    Population Size\n",
        "#    Number of Generations\n",
        "#    Mutation Percent\n",
        "\n",
        "sol_per_pop = 300\n",
        "num_parents_mating = 100\n",
        "num_generations = 100\n",
        "mutation_percent = 30\n",
        "ga = GA()\n",
        "\n",
        "#initial population :         \n",
        "synapse_dim = (1,1,2,4)\n",
        "initial_population_weights = np.random.uniform(-0.5, 1.,size=(sol_per_pop, 1, 2, 4))\n",
        "population_vectors = ga.matrix_to_vector(initial_population_weights)\n",
        "\n",
        "train_error, test_error = [], []\n",
        "\n",
        "for generation in range(num_generations):\n",
        "    print('============================================================================')\n",
        "    print(\"Generation : \", generation+1,'/',num_generations)\n",
        "    print('============================================================================')    \n",
        "    \n",
        "    #Calculate fitness for each population_vector in population    \n",
        "    #send population vector for each process with id at -1 position\n",
        "\n",
        "    temp_population_vectors = np.hstack((population_vectors, np.arange(population_vectors.shape[0]).reshape(population_vectors.shape[0],1)))\n",
        "    \n",
        "    processes=[]\n",
        "    for syn in temp_population_vectors:\n",
        "        p = mp.Process(target = mp_fitness, args=(syn, output))\n",
        "        processes.append(p)\n",
        "    for p in processes:\n",
        "        p.start()\n",
        "    for p in processes:\n",
        "        p.join()\n",
        "    results = [output.get() for p in processes]\n",
        "    results = np.asarray(results)\n",
        "    results = results[np.argsort(results[:,0])]     #Arrange according to id \n",
        "    results = results[:, 1:]                        #remove ids from first column\n",
        "    \n",
        "    fitness_train, fitness_test = [], []\n",
        "    for r in results:\n",
        "        fitness_train.append(r[0])\n",
        "        fitness_test.append(r[1])\n",
        "\n",
        "    train_error.append(np.mean(fitness_train))\n",
        "    test_error.append(np.mean(fitness_test))\n",
        "    print('Train Error:', train_error[-1])\n",
        "    print('Test Error:', test_error[-1])\n",
        "    \n",
        "    #Select best parents \n",
        "    parents = ga.select_mating_pool(population=population_vectors, fitness=fitness_train.copy(), mode='min', num_parents=num_parents_mating)\n",
        "    print(parents.shape[0],'New parents generated...')\n",
        "    \n",
        "    #Crossover parents\n",
        "    offsprings = ga.crossover(parents=parents, num_offsprings=sol_per_pop-num_parents_mating)\n",
        "    print(offsprings.shape[0],'New offsprings produced...')\n",
        "    \n",
        "    #Mutate offsprings\n",
        "    mutated_offsprings = ga.mutate(offsprings, mutation_percent=mutation_percent)\n",
        "    print(mutated_offsprings.shape[0],'offsprings mutated')\n",
        "    \n",
        "    #Create new population\n",
        "    population_vectors[:parents.shape[0],:] = parents\n",
        "    population_vectors[parents.shape[0]:,:] = mutated_offsprings\n",
        "    print('New population created')\n",
        "    \n",
        "    #Update the result of this generation in report files\n",
        "    f = open('/content/drive/My Drive/Final_year_project/NLOS_data/SNN_GA/train_error.pkl','wb')\n",
        "    pickle.dump(train_error, f)\n",
        "    f.close()\n",
        "    f = open('/content/drive/My Drive/Final_year_project/NLOS_data/SNN_GA/test_error.pkl','wb')\n",
        "    pickle.dump(test_error, f)\n",
        "    f.close()\n",
        "    f = open('/content/drive/My Drive/Final_year_project/NLOS_data/SNN_GA/best_paramater_found.pkl','wb')\n",
        "    pickle.dump(parents[0], f)\n",
        "    f.close()\n",
        "\n",
        "    plt.plot(train_error)\n",
        "    plt.plot(test_error)\n",
        "    plt.show()"
      ],
      "execution_count": 0,
      "outputs": [
        {
          "output_type": "stream",
          "text": [
            "============================================================================\n",
            "Generation :  1 / 100\n",
            "============================================================================\n",
            "Train Error: 59.7943064166317\n",
            "Test Error: 60.896777101092646\n",
            "100 New parents generated...\n",
            "200 New offsprings produced...\n",
            "200 offsprings mutated\n",
            "New population created\n"
          ],
          "name": "stdout"
        },
        {
          "output_type": "display_data",
          "data": {
            "image/png": "[encoded data removed]",
            "text/plain": [
              "<Figure size 432x288 with 1 Axes>"
            ]
          },
          "metadata": {
            "tags": [],
            "needs_background": "light"
          }
        },
        {
          "output_type": "stream",
          "text": [
            "============================================================================\n",
            "Generation :  2 / 100\n",
            "============================================================================\n",
            "Train Error: 49.775994419885734\n",
            "Test Error: 50.844600672764535\n",
            "100 New parents generated...\n",
            "200 New offsprings produced...\n",
            "200 offsprings mutated\n",
            "New population created\n"
          ],
          "name": "stdout"
        },
        {
          "output_type": "display_data",
          "data": {
            "image/png": "[encoded data removed]",
            "text/plain": [
              "<Figure size 432x288 with 1 Axes>"
            ]
          },
          "metadata": {
            "tags": [],
            "needs_background": "light"
          }
        },
        {
          "output_type": "stream",
          "text": [
            "============================================================================\n",
            "Generation :  3 / 100\n",
            "============================================================================\n",
            "Train Error: 47.37139413908742\n",
            "Test Error: 48.40572258526492\n",
            "100 New parents generated...\n",
            "200 New offsprings produced...\n",
            "200 offsprings mutated\n",
            "New population created\n"
          ],
          "name": "stdout"
        },
        {
          "output_type": "display_data",
          "data": {
            "image/png": "[encoded data removed]",
            "text/plain": [
              "<Figure size 432x288 with 1 Axes>"
            ]
          },
          "metadata": {
            "tags": [],
            "needs_background": "light"
          }
        },
        {
          "output_type": "stream",
          "text": [
            "============================================================================\n",
            "Generation :  4 / 100\n",
            "============================================================================\n"
          ],
          "name": "stdout"
        }
      ]
    },
    {
      "cell_type": "code",
      "metadata": {
        "id": "GEXJl-bOphDF",
        "colab_type": "code",
        "colab": {}
      },
      "source": [
        ""
      ],
      "execution_count": 0,
      "outputs": []
    },
    {
      "cell_type": "code",
      "metadata": {
        "id": "zb1HmYAwqvqz",
        "colab_type": "code",
        "colab": {}
      },
      "source": [
        ""
      ],
      "execution_count": 0,
      "outputs": []
    }
  ]
}